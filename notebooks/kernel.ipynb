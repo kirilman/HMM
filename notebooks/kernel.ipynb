{
  "cells": [
    {
      "metadata": {
        "trusted": true,
        "_uuid": "9971d6020835085d4ad1461672a8f4e6dd61c026"
      },
      "cell_type": "code",
      "source": "import pandas as pd\nfrom catboost import CatBoostClassifier\nimport lightgbm as lgb\nimport numpy as np\nimport os\n# from sklearn.cross_validation import KFold\nfrom sklearn.model_selection import KFold\npd.options.display.max_columns = 100\nos.listdir('../input')",
      "execution_count": 27,
      "outputs": [
        {
          "output_type": "execute_result",
          "execution_count": 27,
          "data": {
            "text/plain": "['train',\n 'test',\n 'breed_labels.csv',\n 'train_sentiment',\n 'test_sentiment',\n 'test_metadata',\n 'train_images',\n 'train_metadata',\n 'state_labels.csv',\n 'color_labels.csv',\n 'test_images']"
          },
          "metadata": {}
        }
      ]
    },
    {
      "metadata": {
        "trusted": true,
        "_uuid": "b3f5e079a14ef3356f7a4012f0caa98472ccb6c5"
      },
      "cell_type": "code",
      "source": "# train = pd.read_csv('../train/train.csv')\ntrain = pd.read_csv('../input/train/train.csv')\nprint(train.shape)\ntrain.head()",
      "execution_count": 34,
      "outputs": [
        {
          "output_type": "stream",
          "text": "(14993, 24)\n",
          "name": "stdout"
        },
        {
          "output_type": "execute_result",
          "execution_count": 34,
          "data": {
            "text/plain": "   Type         Name  Age  Breed1  Breed2  Gender  Color1  Color2  Color3  \\\n0     2       Nibble    3     299       0       1       1       7       0   \n1     2  No Name Yet    1     265       0       1       1       2       0   \n2     1       Brisco    1     307       0       1       2       7       0   \n3     1         Miko    4     307       0       2       1       2       0   \n4     1       Hunter    1     307       0       1       1       0       0   \n\n   MaturitySize  FurLength  Vaccinated  Dewormed  Sterilized  Health  \\\n0             1          1           2         2           2       1   \n1             2          2           3         3           3       1   \n2             2          2           1         1           2       1   \n3             2          1           1         1           2       1   \n4             2          1           2         2           2       1   \n\n   Quantity  Fee  State                         RescuerID  VideoAmt  \\\n0         1  100  41326  8480853f516546f6cf33aa88cd76c379         0   \n1         1    0  41401  3082c7125d8fb66f7dd4bff4192c8b14         0   \n2         1    0  41326  fa90fa5b1ee11c86938398b60abc32cb         0   \n3         1  150  41401  9238e4f44c71a75282e62f7136c6b240         0   \n4         1    0  41326  95481e953f8aed9ec3d16fc4509537e8         0   \n\n                                         Description      PetID  PhotoAmt  \\\n0  Nibble is a 3+ month old ball of cuteness. He ...  86e1089a3       1.0   \n1  I just found it alone yesterday near my apartm...  6296e909a       2.0   \n2  Their pregnant mother was dumped by her irresp...  3422e4906       7.0   \n3  Good guard dog, very alert, active, obedience ...  5842f1ff5       8.0   \n4  This handsome yet cute boy is up for adoption....  850a43f90       3.0   \n\n   AdoptionSpeed  \n0              2  \n1              0  \n2              3  \n3              2  \n4              2  ",
            "text/html": "<div>\n<style scoped>\n    .dataframe tbody tr th:only-of-type {\n        vertical-align: middle;\n    }\n\n    .dataframe tbody tr th {\n        vertical-align: top;\n    }\n\n    .dataframe thead th {\n        text-align: right;\n    }\n</style>\n<table border=\"1\" class=\"dataframe\">\n  <thead>\n    <tr style=\"text-align: right;\">\n      <th></th>\n      <th>Type</th>\n      <th>Name</th>\n      <th>Age</th>\n      <th>Breed1</th>\n      <th>Breed2</th>\n      <th>Gender</th>\n      <th>Color1</th>\n      <th>Color2</th>\n      <th>Color3</th>\n      <th>MaturitySize</th>\n      <th>FurLength</th>\n      <th>Vaccinated</th>\n      <th>Dewormed</th>\n      <th>Sterilized</th>\n      <th>Health</th>\n      <th>Quantity</th>\n      <th>Fee</th>\n      <th>State</th>\n      <th>RescuerID</th>\n      <th>VideoAmt</th>\n      <th>Description</th>\n      <th>PetID</th>\n      <th>PhotoAmt</th>\n      <th>AdoptionSpeed</th>\n    </tr>\n  </thead>\n  <tbody>\n    <tr>\n      <th>0</th>\n      <td>2</td>\n      <td>Nibble</td>\n      <td>3</td>\n      <td>299</td>\n      <td>0</td>\n      <td>1</td>\n      <td>1</td>\n      <td>7</td>\n      <td>0</td>\n      <td>1</td>\n      <td>1</td>\n      <td>2</td>\n      <td>2</td>\n      <td>2</td>\n      <td>1</td>\n      <td>1</td>\n      <td>100</td>\n      <td>41326</td>\n      <td>8480853f516546f6cf33aa88cd76c379</td>\n      <td>0</td>\n      <td>Nibble is a 3+ month old ball of cuteness. He ...</td>\n      <td>86e1089a3</td>\n      <td>1.0</td>\n      <td>2</td>\n    </tr>\n    <tr>\n      <th>1</th>\n      <td>2</td>\n      <td>No Name Yet</td>\n      <td>1</td>\n      <td>265</td>\n      <td>0</td>\n      <td>1</td>\n      <td>1</td>\n      <td>2</td>\n      <td>0</td>\n      <td>2</td>\n      <td>2</td>\n      <td>3</td>\n      <td>3</td>\n      <td>3</td>\n      <td>1</td>\n      <td>1</td>\n      <td>0</td>\n      <td>41401</td>\n      <td>3082c7125d8fb66f7dd4bff4192c8b14</td>\n      <td>0</td>\n      <td>I just found it alone yesterday near my apartm...</td>\n      <td>6296e909a</td>\n      <td>2.0</td>\n      <td>0</td>\n    </tr>\n    <tr>\n      <th>2</th>\n      <td>1</td>\n      <td>Brisco</td>\n      <td>1</td>\n      <td>307</td>\n      <td>0</td>\n      <td>1</td>\n      <td>2</td>\n      <td>7</td>\n      <td>0</td>\n      <td>2</td>\n      <td>2</td>\n      <td>1</td>\n      <td>1</td>\n      <td>2</td>\n      <td>1</td>\n      <td>1</td>\n      <td>0</td>\n      <td>41326</td>\n      <td>fa90fa5b1ee11c86938398b60abc32cb</td>\n      <td>0</td>\n      <td>Their pregnant mother was dumped by her irresp...</td>\n      <td>3422e4906</td>\n      <td>7.0</td>\n      <td>3</td>\n    </tr>\n    <tr>\n      <th>3</th>\n      <td>1</td>\n      <td>Miko</td>\n      <td>4</td>\n      <td>307</td>\n      <td>0</td>\n      <td>2</td>\n      <td>1</td>\n      <td>2</td>\n      <td>0</td>\n      <td>2</td>\n      <td>1</td>\n      <td>1</td>\n      <td>1</td>\n      <td>2</td>\n      <td>1</td>\n      <td>1</td>\n      <td>150</td>\n      <td>41401</td>\n      <td>9238e4f44c71a75282e62f7136c6b240</td>\n      <td>0</td>\n      <td>Good guard dog, very alert, active, obedience ...</td>\n      <td>5842f1ff5</td>\n      <td>8.0</td>\n      <td>2</td>\n    </tr>\n    <tr>\n      <th>4</th>\n      <td>1</td>\n      <td>Hunter</td>\n      <td>1</td>\n      <td>307</td>\n      <td>0</td>\n      <td>1</td>\n      <td>1</td>\n      <td>0</td>\n      <td>0</td>\n      <td>2</td>\n      <td>1</td>\n      <td>2</td>\n      <td>2</td>\n      <td>2</td>\n      <td>1</td>\n      <td>1</td>\n      <td>0</td>\n      <td>41326</td>\n      <td>95481e953f8aed9ec3d16fc4509537e8</td>\n      <td>0</td>\n      <td>This handsome yet cute boy is up for adoption....</td>\n      <td>850a43f90</td>\n      <td>3.0</td>\n      <td>2</td>\n    </tr>\n  </tbody>\n</table>\n</div>"
          },
          "metadata": {}
        }
      ]
    },
    {
      "metadata": {
        "trusted": true,
        "_uuid": "a965f0b8e058ff873be977a82031f6c0de522083"
      },
      "cell_type": "code",
      "source": "train.info()",
      "execution_count": 35,
      "outputs": [
        {
          "output_type": "stream",
          "text": "<class 'pandas.core.frame.DataFrame'>\nRangeIndex: 14993 entries, 0 to 14992\nData columns (total 24 columns):\nType             14993 non-null int64\nName             13736 non-null object\nAge              14993 non-null int64\nBreed1           14993 non-null int64\nBreed2           14993 non-null int64\nGender           14993 non-null int64\nColor1           14993 non-null int64\nColor2           14993 non-null int64\nColor3           14993 non-null int64\nMaturitySize     14993 non-null int64\nFurLength        14993 non-null int64\nVaccinated       14993 non-null int64\nDewormed         14993 non-null int64\nSterilized       14993 non-null int64\nHealth           14993 non-null int64\nQuantity         14993 non-null int64\nFee              14993 non-null int64\nState            14993 non-null int64\nRescuerID        14993 non-null object\nVideoAmt         14993 non-null int64\nDescription      14981 non-null object\nPetID            14993 non-null object\nPhotoAmt         14993 non-null float64\nAdoptionSpeed    14993 non-null int64\ndtypes: float64(1), int64(19), object(4)\nmemory usage: 2.7+ MB\n",
          "name": "stdout"
        }
      ]
    },
    {
      "metadata": {
        "trusted": true,
        "_uuid": "bf10a9ac3aeb4c1fb2bb5917ce66418c71e9a4bd"
      },
      "cell_type": "code",
      "source": "test = pd.read_csv('../input/test/test.csv')\ntest.head()",
      "execution_count": 38,
      "outputs": [
        {
          "output_type": "execute_result",
          "execution_count": 38,
          "data": {
            "text/plain": "   Type       Name  Age  Breed1  Breed2  Gender  Color1  Color2  Color3  \\\n0     1      Puppy    2     307       0       1       1       0       0   \n1     2     London   24     266       0       1       2       7       0   \n2     2   Snowball   20     266       0       2       7       0       0   \n3     2     Malibu    5     266     252       2       1       6       7   \n4     1  Lala Girl    6     307       0       2       1       2       7   \n\n   MaturitySize  FurLength  Vaccinated  Dewormed  Sterilized  Health  \\\n0             2          2           2         2           2       1   \n1             2          1           1         1           1       1   \n2             2          1           1         1           1       1   \n3             2          1           1         1           1       1   \n4             2          1           1         1           1       1   \n\n   Quantity  Fee  State                         RescuerID  VideoAmt  \\\n0         1  150  41326  4475f31553f0170229455e3c5645644f         0   \n1         1    0  41326  4475f31553f0170229455e3c5645644f         0   \n2         1  150  41326  4475f31553f0170229455e3c5645644f         0   \n3         1  100  41326  4475f31553f0170229455e3c5645644f         0   \n4         1  150  41326  4475f31553f0170229455e3c5645644f         0   \n\n                                         Description      PetID  PhotoAmt  \n0  Puppy is calm for a young dog, but he becomes ...  378fcc4fc       3.0  \n1  Urgently seeking adoption. Please contact for ...  73c10e136       1.0  \n2  Snowball... doesn't look so good (she is healt...  72000c4c5       1.0  \n3  Malibu: Female, Local Mix, 4-5 months, vaccina...  e147a4b9f       1.0  \n4  LALA! That's my name. I'm a 6 month old girl d...  43fbba852       1.0  ",
            "text/html": "<div>\n<style scoped>\n    .dataframe tbody tr th:only-of-type {\n        vertical-align: middle;\n    }\n\n    .dataframe tbody tr th {\n        vertical-align: top;\n    }\n\n    .dataframe thead th {\n        text-align: right;\n    }\n</style>\n<table border=\"1\" class=\"dataframe\">\n  <thead>\n    <tr style=\"text-align: right;\">\n      <th></th>\n      <th>Type</th>\n      <th>Name</th>\n      <th>Age</th>\n      <th>Breed1</th>\n      <th>Breed2</th>\n      <th>Gender</th>\n      <th>Color1</th>\n      <th>Color2</th>\n      <th>Color3</th>\n      <th>MaturitySize</th>\n      <th>FurLength</th>\n      <th>Vaccinated</th>\n      <th>Dewormed</th>\n      <th>Sterilized</th>\n      <th>Health</th>\n      <th>Quantity</th>\n      <th>Fee</th>\n      <th>State</th>\n      <th>RescuerID</th>\n      <th>VideoAmt</th>\n      <th>Description</th>\n      <th>PetID</th>\n      <th>PhotoAmt</th>\n    </tr>\n  </thead>\n  <tbody>\n    <tr>\n      <th>0</th>\n      <td>1</td>\n      <td>Puppy</td>\n      <td>2</td>\n      <td>307</td>\n      <td>0</td>\n      <td>1</td>\n      <td>1</td>\n      <td>0</td>\n      <td>0</td>\n      <td>2</td>\n      <td>2</td>\n      <td>2</td>\n      <td>2</td>\n      <td>2</td>\n      <td>1</td>\n      <td>1</td>\n      <td>150</td>\n      <td>41326</td>\n      <td>4475f31553f0170229455e3c5645644f</td>\n      <td>0</td>\n      <td>Puppy is calm for a young dog, but he becomes ...</td>\n      <td>378fcc4fc</td>\n      <td>3.0</td>\n    </tr>\n    <tr>\n      <th>1</th>\n      <td>2</td>\n      <td>London</td>\n      <td>24</td>\n      <td>266</td>\n      <td>0</td>\n      <td>1</td>\n      <td>2</td>\n      <td>7</td>\n      <td>0</td>\n      <td>2</td>\n      <td>1</td>\n      <td>1</td>\n      <td>1</td>\n      <td>1</td>\n      <td>1</td>\n      <td>1</td>\n      <td>0</td>\n      <td>41326</td>\n      <td>4475f31553f0170229455e3c5645644f</td>\n      <td>0</td>\n      <td>Urgently seeking adoption. Please contact for ...</td>\n      <td>73c10e136</td>\n      <td>1.0</td>\n    </tr>\n    <tr>\n      <th>2</th>\n      <td>2</td>\n      <td>Snowball</td>\n      <td>20</td>\n      <td>266</td>\n      <td>0</td>\n      <td>2</td>\n      <td>7</td>\n      <td>0</td>\n      <td>0</td>\n      <td>2</td>\n      <td>1</td>\n      <td>1</td>\n      <td>1</td>\n      <td>1</td>\n      <td>1</td>\n      <td>1</td>\n      <td>150</td>\n      <td>41326</td>\n      <td>4475f31553f0170229455e3c5645644f</td>\n      <td>0</td>\n      <td>Snowball... doesn't look so good (she is healt...</td>\n      <td>72000c4c5</td>\n      <td>1.0</td>\n    </tr>\n    <tr>\n      <th>3</th>\n      <td>2</td>\n      <td>Malibu</td>\n      <td>5</td>\n      <td>266</td>\n      <td>252</td>\n      <td>2</td>\n      <td>1</td>\n      <td>6</td>\n      <td>7</td>\n      <td>2</td>\n      <td>1</td>\n      <td>1</td>\n      <td>1</td>\n      <td>1</td>\n      <td>1</td>\n      <td>1</td>\n      <td>100</td>\n      <td>41326</td>\n      <td>4475f31553f0170229455e3c5645644f</td>\n      <td>0</td>\n      <td>Malibu: Female, Local Mix, 4-5 months, vaccina...</td>\n      <td>e147a4b9f</td>\n      <td>1.0</td>\n    </tr>\n    <tr>\n      <th>4</th>\n      <td>1</td>\n      <td>Lala Girl</td>\n      <td>6</td>\n      <td>307</td>\n      <td>0</td>\n      <td>2</td>\n      <td>1</td>\n      <td>2</td>\n      <td>7</td>\n      <td>2</td>\n      <td>1</td>\n      <td>1</td>\n      <td>1</td>\n      <td>1</td>\n      <td>1</td>\n      <td>1</td>\n      <td>150</td>\n      <td>41326</td>\n      <td>4475f31553f0170229455e3c5645644f</td>\n      <td>0</td>\n      <td>LALA! That's my name. I'm a 6 month old girl d...</td>\n      <td>43fbba852</td>\n      <td>1.0</td>\n    </tr>\n  </tbody>\n</table>\n</div>"
          },
          "metadata": {}
        }
      ]
    },
    {
      "metadata": {
        "trusted": true,
        "_uuid": "b4412db65ec8edc703dce8774dd5220100ac4ce3"
      },
      "cell_type": "code",
      "source": "train.AdoptionSpeed.plot('hist');",
      "execution_count": 39,
      "outputs": [
        {
          "output_type": "display_data",
          "data": {
            "text/plain": "<Figure size 432x288 with 1 Axes>",
            "image/png": "[encoded data removed]"
          },
          "metadata": {}
        }
      ]
    },
    {
      "metadata": {
        "trusted": true,
        "_uuid": "a57c55d6eed9bccd645c34ee3335a9f4a2cc0bf4"
      },
      "cell_type": "code",
      "source": "def histogram(ratings, min_rating=None, max_rating=None):\n    \"\"\"\n    Returns the counts of each type of rating that a rater made\n    \"\"\"\n    if min_rating is None:\n        min_rating = min(ratings)\n    if max_rating is None:\n        max_rating = max(ratings)\n    num_ratings = int(max_rating - min_rating + 1)\n    hist_ratings = [0 for x in range(num_ratings)]\n    for r in ratings:\n        hist_ratings[r - min_rating] += 1\n    return hist_ratings\ndef confusion_matrix(rater_a, rater_b, min_rating=None, max_rating=None):\n    \"\"\"\n    Returns the confusion matrix between rater's ratings\n    \"\"\"\n    assert(len(rater_a) == len(rater_b))\n    if min_rating is None:\n        min_rating = min(rater_a + rater_b)\n    if max_rating is None:\n        max_rating = max(rater_a + rater_b)\n    num_ratings = int(max_rating - min_rating + 1)\n    conf_mat = [[0 for i in range(num_ratings)]\n                for j in range(num_ratings)]\n    for a, b in zip(rater_a, rater_b):\n        conf_mat[a - min_rating][b - min_rating] += 1\n    return conf_mat\n\ndef quadratic_weighted_kappa(y, y_pred):\n    \"\"\"\n    Calculates the quadratic weighted kappa\n    axquadratic_weighted_kappa calculates the quadratic weighted kappa\n    value, which is a measure of inter-rater agreement between two raters\n    that provide discrete numeric ratings.  Potential values range from -1\n    (representing complete disagreement) to 1 (representing complete\n    agreement).  A kappa value of 0 is expected if all agreement is due to\n    chance.\n    quadratic_weighted_kappa(rater_a, rater_b), where rater_a and rater_b\n    each correspond to a list of integer ratings.  These lists must have the\n    same length.\n    The ratings should be integers, and it is assumed that they contain\n    the complete range of possible ratings.\n    quadratic_weighted_kappa(X, min_rating, max_rating), where min_rating\n    is the minimum possible rating, and max_rating is the maximum possible\n    rating\n    \"\"\"\n    rater_a = y\n    rater_b = y_pred\n    min_rating=None\n    max_rating=None\n    rater_a = np.array(rater_a, dtype=int)\n    rater_b = np.array(rater_b, dtype=int)\n    assert(len(rater_a) == len(rater_b))\n    \n    if min_rating is None:\n        min_rating = min(min(rater_a), min(rater_b))\n    if max_rating is None:\n        max_rating = max(max(rater_a), max(rater_b))\n    conf_mat = confusion_matrix(rater_a, rater_b,\n                                min_rating, max_rating)\n    num_ratings = len(conf_mat)\n    num_scored_items = float(len(rater_a))\n\n    hist_rater_a = histogram(rater_a, min_rating, max_rating)\n    hist_rater_b = histogram(rater_b, min_rating, max_rating)\n\n    numerator = 0.0\n    denominator = 0.0\n\n    for i in range(num_ratings):\n        for j in range(num_ratings):\n            expected_count = (hist_rater_a[i] * hist_rater_b[j]\n                              / num_scored_items)\n            d = pow(i - j, 2.0) / pow(num_ratings - 1, 2.0)\n            numerator += d * conf_mat[i][j] / num_scored_items\n            denominator += d * expected_count / num_scored_items\n\n    return (1.0 - numerator / denominator)\n\n\ndef train_model(x_train, y_train, train_index, test_index, model_type, params = None):\n    if model_type == 'cat':\n        model = CatBoostClassifier(iterations=1000).fit(x_train, y_train)\n    if model_type == 'lgb':\n        train_data = lgb.Dataset(x_train[train_index], label = y_train[train_index])\n        model = lgb.train(params, train_data, num_boost_round= 5000,)\n        \n        y_pred = model.predict(x_train[test_index]).argmax(1)\n        print(y_pred.shape)\n        score = quadratic_weighted_kappa(y_train[test_index], y_pred)\n        \n    return model, score \n\ndef submit(test_frame, y_pred, file_name,):\n    frame = pd.DataFrame({'PetID': test_frame.PetID, 'AdoptionSpeed': y_pred})\n    frame.to_csv(path_or_buf=file_name, index=False)\n    return",
      "execution_count": 78,
      "outputs": []
    },
    {
      "metadata": {
        "trusted": true,
        "scrolled": true,
        "_uuid": "46c8a0161521fcd6d4864f4e4940efd2d22035ae"
      },
      "cell_type": "code",
      "source": "#Имя животного как обработать\ncols_to_used = ['Type', 'Age', 'Breed1', 'Breed2', 'Gender', 'Color1', 'Color2','Color3', 'MaturitySize',\n                'FurLength','Vaccinated', 'Dewormed', 'Sterilized', 'Health', 'Quantity', 'Fee', 'State', \n                'VideoAmt',\t'PhotoAmt']\nx_train = train[cols_to_used].values\ny_train = train.AdoptionSpeed.values\n\nx_test = test[cols_to_used]\n# print(x_test)\nprint('Тест ', x_test.shape)",
      "execution_count": 79,
      "outputs": [
        {
          "output_type": "stream",
          "text": "Тест  (3948, 19)\n",
          "name": "stdout"
        }
      ]
    },
    {
      "metadata": {
        "trusted": true,
        "_uuid": "01e284edc3da79850e974275e882cfaba10835f9"
      },
      "cell_type": "code",
      "source": "y = [1,2,3,4]\ny_p = [2,4,2,1]\nquadratic_weighted_kappa(y, y_p)",
      "execution_count": 80,
      "outputs": [
        {
          "output_type": "execute_result",
          "execution_count": 80,
          "data": {
            "text/plain": "-0.5"
          },
          "metadata": {}
        }
      ]
    },
    {
      "metadata": {
        "trusted": true,
        "_uuid": "cb0b761bc24f0e9d2a8e3c7d63708af00e4638bb"
      },
      "cell_type": "code",
      "source": "params = {'num_leaves': 256,\n        #  'min_data_in_leaf': 60,\n         'objective': 'multiclass',\n         'max_depth': -1,\n         'learning_rate': 0.01,\n         \"boosting\": \"gbdt\",\n         \"feature_fraction\": 0.9,\n         \"bagging_freq\": 5,\n         \"bagging_fraction\": 0.9,\n         \"bagging_seed\": 11,\n        #  \"lambda_l1\": 0.1,\n         # \"lambda_l2\": 0.1,\n         \"random_state\": 42,          \n         \"verbosity\": -1,\n         \"num_class\": 5}\nkappa_score = []\nkf = KFold(5, shuffle= True)\nfor train_index, test_index in kf.split(x_train):\n    model, score = train_model(x_train, y_train, train_index, test_index, model_type = 'lgb',params = params)\n    kappa_score += [score]\n    print(score)\n# model = train_model(x_train, y_train, 'lgb', params)",
      "execution_count": 81,
      "outputs": [
        {
          "output_type": "stream",
          "text": "(2999,)\n0.32387449357000386\n(2999,)\n0.33287977926231416\n(2999,)\n0.28711252133702136\n(2998,)\n0.314202338632529\n(2998,)\n0.29138920176610683\n",
          "name": "stdout"
        }
      ]
    },
    {
      "metadata": {
        "trusted": true,
        "_uuid": "7591d318193d665abbad16043ab3742cb8f43c11"
      },
      "cell_type": "code",
      "source": "print('mean = {} +/- {}'.format(np.mean(kappa_score),np.std(kappa_score)))",
      "execution_count": 82,
      "outputs": [
        {
          "output_type": "stream",
          "text": "mean = 0.30989166691359504 +/- 0.01790969196307786\n",
          "name": "stdout"
        }
      ]
    },
    {
      "metadata": {
        "trusted": true,
        "_uuid": "41513028e6c7aa327551a5349b78e2a6a47f01de"
      },
      "cell_type": "code",
      "source": "print('mean = {} +/- {}'.format(np.mean(kappa_score),np.std(kappa_score)))",
      "execution_count": 77,
      "outputs": [
        {
          "output_type": "stream",
          "text": "mean = 0.32520987009609925 +/- 0.013086378660984579\n",
          "name": "stdout"
        }
      ]
    },
    {
      "metadata": {
        "trusted": false,
        "_uuid": "0b0cf1cdc9edddd83c9ed8a5becdd9caea71b697"
      },
      "cell_type": "code",
      "source": "y_pred = model.predict(x_test).argmax(1)",
      "execution_count": null,
      "outputs": []
    },
    {
      "metadata": {
        "trusted": false,
        "_uuid": "15f5846ed36c9d88fbfdfb93a9779d4c5c652a58"
      },
      "cell_type": "code",
      "source": "y_pred.shape",
      "execution_count": null,
      "outputs": []
    },
    {
      "metadata": {
        "trusted": false,
        "_uuid": "7fd78acd8eeb623d2fcfbe4838d4e91317e2b231"
      },
      "cell_type": "code",
      "source": "y_pred[0]",
      "execution_count": null,
      "outputs": []
    },
    {
      "metadata": {
        "trusted": false,
        "_uuid": "27d28ee8a425f0879ea854badc7f642c9611aa27"
      },
      "cell_type": "code",
      "source": "submit(test,y_pred,'submit.csv')",
      "execution_count": null,
      "outputs": []
    },
    {
      "metadata": {
        "trusted": false,
        "_uuid": "c8ab8b751b9ab80d5ec7bb2b6e5caedbdb918643"
      },
      "cell_type": "code",
      "source": "",
      "execution_count": null,
      "outputs": []
    }
  ],
  "metadata": {
    "kernelspec": {
      "display_name": "Python 3",
      "language": "python",
      "name": "python3"
    },
    "language_info": {
      "codemirror_mode": {
        "name": "ipython",
        "version": 3
      },
      "file_extension": ".py",
      "mimetype": "text/x-python",
      "name": "python",
      "nbconvert_exporter": "python",
      "pygments_lexer": "ipython3",
      "version": "3.6.5"
    }
  },
  "nbformat": 4,
  "nbformat_minor": 1
}